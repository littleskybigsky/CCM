{
 "cells": [
  {
   "cell_type": "markdown",
   "metadata": {},
   "source": [
    "Hey friends :)<br>\n",
    "Here is a little program I put together that does a few things: <br>\n",
    "1) Takes in a list/dataset that holds the name of the organization we are reaching out to, along with their username and org_type. <br>\n",
    "2) Uses that information to create a personalized message. <br>\n",
    "3) Sends a message through volunteer's IG account to the organization's IG (and repeats for all the organizations in their list). <br>\n",
    "4) Rotates through three unique messages every 12 accounts to avoid setting off any IG spam filters. <br>\n",
    "<br>\n",
    "I'm hoping that we can use this for any massive outreach campaigns we plan to do in the future, customizing to the situation. I'm also excited to use the outcome data to use in future ML projects where we can optimize impact and response which could make any outreach efforts a lot more effective!"
   ]
  },
  {
   "cell_type": "code",
   "execution_count": null,
   "metadata": {},
   "outputs": [],
   "source": [
    "from csv import reader\n",
    "from instadm import InstaDM\n",
    "# read csv file as a list of lists\n",
    "with open('ccm_target_data2.csv', 'r') as read_obj:\n",
    "    # pass the file object to reader() to get the reader object\n",
    "    csv_reader = reader(read_obj)\n",
    "    # Pass reader object to list() to get a list of lists\n",
    "    good_data = list(csv_reader)\n",
    "\n",
    "name= 'Schuyler'\n",
    "index = 0\n",
    "for (x,y,z) in good_data:\n",
    "    message1= (\"Hi \"+str(x)+\"! My name is \"+str(name)+\", and I’m a volunteer with Climate Changemakers (@theclimatevote). As a trusted local \"+str(y)+\", your voice has the power to advance racial justice, end this Covid-19 crisis, strengthen local healthcare, and address climate injustices. Early voting for the Senate runoff elections has started- are you interested in sharing some graphics with your followers to get out the vote?\")\n",
    "    message2= (\"Hi \"+str(x)+\"! My name is \"+str(name)+\", and I’m helping out with Climate Changemakers (@theclimatevote). As a \"+str(y)+\", your voice has the power to strengthen local healthcare, achieve racial justice, end this Covid-19 crisis, and address climate injustices. Early voting for the Senate runoff elections has started- are you interested in sharing some graphics with your followers to get out the vote?)\n",
    "    message3= (\"Hi \"+str(x)+\"! My name is \"+str(name)+\". I teamed up with Climate Changemakers (@theclimatevote) to make change. As a \"+str(y)+\", your voice has the power to end this Covid-19 crisis, achieve racial justice, strengthen local healthcare, and address climate injustices. Early voting for the Senate runoff elections has started- are you interested in sharing some graphics with your followers to get out the vote?)\n",
    "    if __name__ == '__main__' and index<=12:\n",
    "        # Auto login\n",
    "        insta = InstaDM(username='littleskybigsky', password='xxx', headless=False)\n",
    "\n",
    "        # Send message\n",
    "        insta.sendMessage(user= z, message= message1)\n",
    "        index+= 1\n",
    "    elif __name__ == '__main__' and index<=24:\n",
    "        # Auto login\n",
    "        insta = InstaDM(username='littleskybigsky', password='xxx', headless=False)\n",
    "\n",
    "        # Send message\n",
    "        insta.sendMessage(user= z, message= message2)\n",
    "        index+= 1\n",
    "    elif __name__ == '__main__' and index<36:\n",
    "        # Auto login\n",
    "        insta = InstaDM(username='littleskybigsky', password='xxx', headless=False)\n",
    "\n",
    "        # Send message\n",
    "        insta.sendMessage(user= z, message= message3)\n",
    "        index+= 1\n",
    "    elif __name__ == '__main__' and index==36:\n",
    "        # Auto login\n",
    "        insta = InstaDM(username='littleskybigsky', password='xxx', headless=False)\n",
    "\n",
    "        # Send message\n",
    "        insta.sendMessage(user= z, message= message3)\n",
    "        index= 0"
   ]
  }
 ],
 "metadata": {
  "kernelspec": {
   "display_name": "Python 3",
   "language": "python",
   "name": "python3"
  },
  "language_info": {
   "codemirror_mode": {
    "name": "ipython",
    "version": 3
   },
   "file_extension": ".py",
   "mimetype": "text/x-python",
   "name": "python",
   "nbconvert_exporter": "python",
   "pygments_lexer": "ipython3",
   "version": "3.8.5"
  }
 },
 "nbformat": 4,
 "nbformat_minor": 4
}
