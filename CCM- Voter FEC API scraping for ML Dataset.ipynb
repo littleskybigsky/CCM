{
 "cells": [
  {
   "cell_type": "code",
   "execution_count": 74,
   "metadata": {
    "scrolled": true
   },
   "outputs": [
    {
     "data": {
      "text/plain": [
       "campaign_id\n",
       "C00401224    6376438\n",
       "C00000935    1323054\n",
       "C00003418     571370\n",
       "C00573261     495883\n",
       "C00630012     418565\n",
       "C00042366     348725\n",
       "C00580068     317444\n",
       "C00501197     280489\n",
       "C00010603     280392\n",
       "C00027466     203678\n",
       "C00075820     178361\n",
       "C00193433     174389\n",
       "C00365536     151529\n",
       "C00618371     151390\n",
       "C00431304     150301\n",
       "C00492785     142995\n",
       "C00500843     130468\n",
       "C00214643     115762\n",
       "C00630426     115394\n",
       "C00341396     114924\n",
       "dtype: int64"
      ]
     },
     "execution_count": 74,
     "metadata": {},
     "output_type": "execute_result"
    }
   ],
   "source": [
    "import pandas as pd\n",
    "#columns = []\n",
    "#for x in range(21):\n",
    "#    columns.append(str(x))\n",
    "tp = pd.read_csv('itcont.txt', sep='|', usecols=[0,5,6,7,8,9,10,11,12,13,14],  iterator=True, error_bad_lines=False, chunksize=1000, header=None)\n",
    "donors = pd.concat(tp, ignore_index=True)\n",
    "\n",
    "donors.rename(columns={0: \"campaign_id\", 6: \"donor_type\", 7: \"name\", 8: 'city', 9: 'state', 10: 'zipcode', 11: 'employer', 12: 'position', 13: 'donation_date', 14: 'donation_amount'}, inplace=True)\n",
    "city_size = donors.groupby(by='campaign_id').size().sort_values(ascending=False)\n",
    "city_size.head(20)\n",
    "#donors = pd.read_csv('itcont.txt', sep=\" \", error_bad_lines=False, chunksize=100)\n",
    "#chunk_list = []  # append each chunk df here \n",
    "\n",
    "# Each chunk is in df format\n",
    "#for chunk in donors:  \n",
    "    # Once the data filtering is done, append the chunk to list\n",
    "#    chunk_list.append(chunk)\n",
    "    \n",
    "# concat the list into dataframe \n",
    "#ocasio_donors = pd.concat(chunk_list)\n",
    "\n",
    "\n",
    "#print('Latitude:',mydict['results'][0]['geometry']['location']['lat'])\n",
    "\n",
    "\n"
   ]
  },
  {
   "cell_type": "code",
   "execution_count": 153,
   "metadata": {
    "scrolled": false
   },
   "outputs": [
    {
     "name": "stderr",
     "output_type": "stream",
     "text": [
      "/Users/schuylerkarr/miniconda3/lib/python3.8/site-packages/pandas/core/frame.py:3188: SettingWithCopyWarning: \n",
      "A value is trying to be set on a copy of a slice from a DataFrame.\n",
      "Try using .loc[row_indexer,col_indexer] = value instead\n",
      "\n",
      "See the caveats in the documentation: https://pandas.pydata.org/pandas-docs/stable/user_guide/indexing.html#returning-a-view-versus-a-copy\n",
      "  self[k1] = value[k2]\n"
     ]
    },
    {
     "data": {
      "text/plain": [
       "employer\n",
       "NOT EMPLOYED                       10195\n",
       "NONE                                4785\n",
       "SELF                                2425\n",
       "SELF EMPLOYED                       1147\n",
       "RETIRED                              625\n",
       "SELF-EMPLOYED                        179\n",
       "UNIVERSITY OF MICHIGAN                66\n",
       "UNIVERSITY OF MARYLAND                55\n",
       "GOOGLE                                37\n",
       "BOEING                                37\n",
       "APOLLO'S FIRE BAROQUE ORCHESTRA       36\n",
       "UCLA                                  35\n",
       "ARUBA NETWORKS                        35\n",
       "CITY OF OAKLAND                       32\n",
       "SELF  EMPLOYED                        32\n",
       "STANFORD UNIVERSITY                   31\n",
       "KAYAK.COM                             31\n",
       "PETROSPECSINC.                        30\n",
       "SPLUNK                                29\n",
       "THOMSON REUTERS                       29\n",
       "NATIVE AMERICAN HEALTH CENTER         28\n",
       "STATE OF IOWA                         28\n",
       "BANCROFT SCHOOL                       28\n",
       "BARDEX CORPORATION                    28\n",
       "AACN                                  28\n",
       "dtype: int64"
      ]
     },
     "execution_count": 153,
     "metadata": {},
     "output_type": "execute_result"
    }
   ],
   "source": [
    "ocasio = donors[donors['campaign_id']== 'C00639591']\n",
    "ocasio.groupby(by='zipcode').size().sort_values(ascending=False)\n",
    "justice_dems = donors[donors['campaign_id']== 'C00630665']\n",
    "jobs = justice_dems.groupby(by='position').size().sort_values(ascending=False)\n",
    "friends_of_bernie = donors[donors['campaign_id']== 'C00411330']\n",
    "friends_of_bernie.shape\n",
    "bjobs = friends_of_bernie.groupby(by='employer').size().sort_values(ascending=False)\n",
    "bjobs.head(25)\n",
    "jobs.head(25)\n",
    "scalise = donors[donors['campaign_id']== 'C00394957']\n",
    "sjobs = scalise.groupby(by='donation_amount').size().sort_values(ascending=False)\n",
    "bjobs.head(25)\n",
    "trump = donors[donors['campaign_id']== 'C00394957']\n",
    "justice_dems[['Last','First']] = justice_dems.name.str.split(\",\",expand=True)\n",
    "onames = justice_dems.groupby(by='Last').size().sort_values(ascending=False)\n",
    "justice_dems.head(50)\n",
    "bjobs.head(25)\n",
    "\n",
    "\n"
   ]
  },
  {
   "cell_type": "markdown",
   "metadata": {},
   "source": [
    "feature engineering brainstorm: use IRS by zipcode data to estimate income bracket, country of origin (forebears.io) and race by name (ethnicolr- https://github.com/appeler/ethnicolr), census data by zipcode for educational attainment."
   ]
  }
 ],
 "metadata": {
  "kernelspec": {
   "display_name": "Python 3",
   "language": "python",
   "name": "python3"
  },
  "language_info": {
   "codemirror_mode": {
    "name": "ipython",
    "version": 3
   },
   "file_extension": ".py",
   "mimetype": "text/x-python",
   "name": "python",
   "nbconvert_exporter": "python",
   "pygments_lexer": "ipython3",
   "version": "3.8.2"
  }
 },
 "nbformat": 4,
 "nbformat_minor": 4
}
