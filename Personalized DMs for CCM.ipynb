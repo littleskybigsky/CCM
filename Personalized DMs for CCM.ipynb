{
 "cells": [
  {
   "cell_type": "markdown",
   "metadata": {},
   "source": [
    "import csv file and convert to strings in a list"
   ]
  },
  {
   "cell_type": "code",
   "execution_count": 31,
   "metadata": {
    "scrolled": true
   },
   "outputs": [
    {
     "name": "stdout",
     "output_type": "stream",
     "text": [
      "Hi Blaze Steak & Seafood! My name is Schuyler, and I’m a volunteer with Climate Changemakers (@theclimatevote). So much is at stake on the Jan 5 runoff election - local healthcare access, racial justice, Covid-19, climate injustice, and more - and we need your help to make real change at a community level.  As a trusted, local restaurant, your account seems perfect for spreading the word about the importance of early voting and sharing resources to do so safely. Do you have a second to talk about this important opportunity?\n",
      "Hi Tacos La Villa! My name is Schuyler, and I’m a volunteer with Climate Changemakers (@theclimatevote). So much is at stake on the Jan 5 runoff election - local healthcare access, racial justice, Covid-19, climate injustice, and more - and we need your help to make real change at a community level.  As a trusted, local restaurant, your account seems perfect for spreading the word about the importance of early voting and sharing resources to do so safely. Do you have a second to talk about this important opportunity?\n",
      "Hi Unity Restaurant! My name is Schuyler, and I’m a volunteer with Climate Changemakers (@theclimatevote). So much is at stake on the Jan 5 runoff election - local healthcare access, racial justice, Covid-19, climate injustice, and more - and we need your help to make real change at a community level.  As a trusted, local restaurant, your account seems perfect for spreading the word about the importance of early voting and sharing resources to do so safely. Do you have a second to talk about this important opportunity?\n",
      "Hi Boba Theory! My name is Schuyler, and I’m a volunteer with Climate Changemakers (@theclimatevote). So much is at stake on the Jan 5 runoff election - local healthcare access, racial justice, Covid-19, climate injustice, and more - and we need your help to make real change at a community level.  As a trusted, local restaurant, your account seems perfect for spreading the word about the importance of early voting and sharing resources to do so safely. Do you have a second to talk about this important opportunity?\n",
      "Hi Beautiful Restaurant! My name is Schuyler, and I’m a volunteer with Climate Changemakers (@theclimatevote). So much is at stake on the Jan 5 runoff election - local healthcare access, racial justice, Covid-19, climate injustice, and more - and we need your help to make real change at a community level.  As a trusted, local restaurant, your account seems perfect for spreading the word about the importance of early voting and sharing resources to do so safely. Do you have a second to talk about this important opportunity?\n",
      "Hi Julianna's Crepes! My name is Schuyler, and I’m a volunteer with Climate Changemakers (@theclimatevote). So much is at stake on the Jan 5 runoff election - local healthcare access, racial justice, Covid-19, climate injustice, and more - and we need your help to make real change at a community level.  As a trusted, local restaurant, your account seems perfect for spreading the word about the importance of early voting and sharing resources to do so safely. Do you have a second to talk about this important opportunity?\n"
     ]
    }
   ],
   "source": [
    "import csv\n",
    "\n",
    "with open('Untitled spreadsheet - Sheet1.csv', newline='') as f:\n",
    "    reader = csv.reader(f)\n",
    "    data = list(reader)\n",
    "good_data=[]\n",
    "for x in data:\n",
    "    good_data.extend(x)\n",
    "name= 'Schuyler'\n",
    "message = [\"Hi \"+str(x)+\"! My name is \"+str(name)+\", and I’m a volunteer with Climate Changemakers (@theclimatevote). So much is at stake on the Jan 5 runoff election - local healthcare access, racial justice, Covid-19, climate injustice, and more - and we need your help to make real change at a community level.  As a trusted, local restaurant, your account seems perfect for spreading the word about the importance of early voting and sharing resources to do so safely. Do you have a second to talk about this important opportunity?\"\n",
    "for x in good_data]\n",
    "for y in message:\n",
    "    print(y)"
   ]
  }
 ],
 "metadata": {
  "kernelspec": {
   "display_name": "Python 3",
   "language": "python",
   "name": "python3"
  },
  "language_info": {
   "codemirror_mode": {
    "name": "ipython",
    "version": 3
   },
   "file_extension": ".py",
   "mimetype": "text/x-python",
   "name": "python",
   "nbconvert_exporter": "python",
   "pygments_lexer": "ipython3",
   "version": "3.8.5"
  }
 },
 "nbformat": 4,
 "nbformat_minor": 4
}
